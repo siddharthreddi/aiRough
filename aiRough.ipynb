{
  "cells": [
    {
      "cell_type": "code",
      "execution_count": 4,
      "metadata": {
        "colab": {},
        "colab_type": "code",
        "id": "WES9UCyexUPU"
      },
      "outputs": [
        {
          "output_type": "stream",
          "name": "stdout",
          "text": "hello sid\n"
        }
      ],
      "source": [
        "import numpy as np\n",
        "print(\"hello sid\")"
      ]
    },
    {
      "cell_type": "code",
      "execution_count": null,
      "metadata": {},
      "outputs": [],
      "source": []
    }
  ],
  "metadata": {
    "colab": {
      "name": "aiRough.ipynb",
      "provenance": [],
      "private_outputs": true,
      "collapsed_sections": []
    },
    "kernelspec": {
      "name": "python37764bit9222cf65092247ee9a7b2b829a87e7df",
      "display_name": "Python 3.7.7 64-bit"
    }
  },
  "nbformat": 4,
  "nbformat_minor": 0
}